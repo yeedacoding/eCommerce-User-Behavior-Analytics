{
 "cells": [
  {
   "cell_type": "markdown",
   "metadata": {},
   "source": [
    "# 퍼널 분석"
   ]
  },
  {
   "cell_type": "markdown",
   "metadata": {},
   "source": [
    "### 사전 분석 : hits\n",
    "- 사용자 행동에 대한 상세 정보가 담긴 hits 컬럼값 분석"
   ]
  },
  {
   "cell_type": "code",
   "execution_count": 1,
   "metadata": {},
   "outputs": [
    {
     "data": {
      "text/html": [
       "        <script type=\"text/javascript\">\n",
       "        window.PlotlyConfig = {MathJaxConfig: 'local'};\n",
       "        if (window.MathJax && window.MathJax.Hub && window.MathJax.Hub.Config) {window.MathJax.Hub.Config({SVG: {font: \"STIX-Web\"}});}\n",
       "        </script>\n",
       "        <script type=\"module\">import \"https://cdn.plot.ly/plotly-3.0.0.min\"</script>\n",
       "        "
      ]
     },
     "metadata": {},
     "output_type": "display_data"
    }
   ],
   "source": [
    "import os\n",
    "import ast\n",
    "import json\n",
    "import random\n",
    "import numpy as np\n",
    "import pandas as pd\n",
    "import seaborn as sns\n",
    "import matplotlib.pyplot as plt\n",
    "color = sns.color_palette()\n",
    "\n",
    "%matplotlib inline\n",
    "\n",
    "from plotly import tools\n",
    "import plotly.offline as py\n",
    "py.init_notebook_mode(connected=True)\n",
    "import plotly.graph_objs as go\n",
    "\n",
    "from sklearn import model_selection, preprocessing, metrics\n",
    "import lightgbm as lgb\n",
    "\n",
    "pd.options.mode.chained_assignment = None\n",
    "pd.options.display.max_columns = 999\n",
    "\n",
    "from pandas import json_normalize"
   ]
  },
  {
   "cell_type": "code",
   "execution_count": 2,
   "metadata": {},
   "outputs": [
    {
     "name": "stderr",
     "output_type": "stream",
     "text": [
      "/var/folders/l3/cq8y8n3s03v315zt58m2zrv80000gn/T/ipykernel_16706/521266735.py:2: DtypeWarning:\n",
      "\n",
      "Columns (4) have mixed types. Specify dtype option on import or set low_memory=False.\n",
      "\n"
     ]
    }
   ],
   "source": [
    "train_path = 'new_train.csv'\n",
    "train_df = pd.read_csv(train_path)"
   ]
  },
  {
   "cell_type": "code",
   "execution_count": 3,
   "metadata": {},
   "outputs": [
    {
     "data": {
      "text/plain": [
       "{'hitNumber': '1',\n",
       " 'time': '0',\n",
       " 'hour': '10',\n",
       " 'minute': '54',\n",
       " 'isInteraction': True,\n",
       " 'isEntrance': True,\n",
       " 'page': {'pagePath': '/home',\n",
       "  'hostname': 'shop.googlemerchandisestore.com',\n",
       "  'pageTitle': 'Home',\n",
       "  'pagePathLevel1': '/home',\n",
       "  'pagePathLevel2': '',\n",
       "  'pagePathLevel3': '',\n",
       "  'pagePathLevel4': ''},\n",
       " 'appInfo': {'screenName': 'shop.googlemerchandisestore.com/home',\n",
       "  'landingScreenName': 'shop.googlemerchandisestore.com/home',\n",
       "  'exitScreenName': 'shop.googlemerchandisestore.com/google+redesign/apparel/womens+tshirts/womens+hero+vneck+tee+white.axd',\n",
       "  'screenDepth': '0'},\n",
       " 'exceptionInfo': {'isFatal': True},\n",
       " 'product': [],\n",
       " 'promotion': [],\n",
       " 'eCommerceAction': {'action_type': '0', 'step': '1'},\n",
       " 'experiment': [],\n",
       " 'customVariables': [],\n",
       " 'customDimensions': [],\n",
       " 'customMetrics': [],\n",
       " 'type': 'PAGE',\n",
       " 'social': {'socialNetwork': '(not set)',\n",
       "  'hasSocialSourceReferral': 'No',\n",
       "  'socialInteractionNetworkAction': ' : '},\n",
       " 'contentGroup': {'contentGroup1': '(not set)',\n",
       "  'contentGroup2': '(not set)',\n",
       "  'contentGroup3': '(not set)',\n",
       "  'contentGroup4': '(not set)',\n",
       "  'contentGroup5': '(not set)',\n",
       "  'previousContentGroup1': '(entrance)',\n",
       "  'previousContentGroup2': '(entrance)',\n",
       "  'previousContentGroup3': '(entrance)',\n",
       "  'previousContentGroup4': '(entrance)',\n",
       "  'previousContentGroup5': '(entrance)'},\n",
       " 'publisher_infos': []}"
      ]
     },
     "execution_count": 3,
     "metadata": {},
     "output_type": "execute_result"
    }
   ],
   "source": [
    "hits_data = ast.literal_eval(train_df['hits'][0])\n",
    "\n",
    "hits_data[0]"
   ]
  },
  {
   "cell_type": "markdown",
   "metadata": {},
   "source": [
    "#### (1) 이탈률(bounce rate) 분석을 위한 주요 지표\n",
    "- 이탈률 : 한 페이지 방문 후 다른 상호작용 없이 사이트를 떠난 방문자의 비율\n",
    "\n",
    "**주요 Key**\n",
    "- `isInteraction` : `False`이면, 해당 히트가 사용자의 상호작용이 없는 것으로 간주되어 이탈로 처리\n",
    "- `isEntrance` : `True`이면, 해당 히트가 세션의 첫 번째 페이지\n",
    "- `page.pagePath` : 방문한 페이지의 경로\n",
    "- `eCommerceAction.action_type` : 0이면 일반적인 페이지 조회, 1이면 제품 조회, 2 이상이면 특정 상호작용(구매, 장바구니 추가 등)을 의미\n",
    "---\n",
    "#### (2) 종료율 (exit rate) 분석을 위한 주요 지표\n",
    "- 종료율 : 특정 페이지에서 세션이 종료된 비율\n",
    "\n",
    "**주요 Key**\n",
    "- `appInfo.exitScreenName` : 방문자가 마지막으로 본 페이지\n",
    "- `page.pagePath` : 방문한 페이지 경로\n",
    "- `isEntrace` : `True`이면, 해당 페이지가 세션의 첫 페이지\n",
    "- `type` : `PAGE` 이므로 페이지뷰 이벤트인지 확인\n",
    "---\n",
    "#### (3) 퍼널 분석 (Funnel Analysis) 분석을 위한 주요 지표\n",
    "- 퍼널 분석 : 사용자가 특정 목표(구매 완료)까지 진행하는 과정을 추적하는데 사용\n",
    "\n",
    "**주요 Key**\n",
    "- `eCommerceAction.action_type` : 사용자의 전자상거래 행동 (0 = 기본 조회, 1 = 제품조회, 2 = 장바구니 추가, 3 = 결제 진행, 4 = 구매 완료 등)\n",
    "- `eCommerceAction.step` : 퍼널의 어느 단계인지 표시(step1 : 페이지 방문, step2 : 장바구니 추가, step3 : 결제 진행, step 4 : 주문 완료 등)\n",
    "- `page.pagePath` : 사용자가 어떤 경로를 통해 이동하는지 확인\n",
    "- `appInfo.screenName` : 모바일 앱 화면의 경우 어떤 스크린에서 이벤트가 발생했는지\n",
    "- `prodcut` : 제품 상세정보 (사용자가 본 상품이 무엇인지)\n",
    "- `promotion` \" 사용자에게 노출된 프로모션이 있는지"
   ]
  },
  {
   "cell_type": "markdown",
   "metadata": {},
   "source": [
    "## 이탈률, 종료율, 퍼널 분석을 위한 hits 컬럼 펼치기"
   ]
  },
  {
   "cell_type": "code",
   "execution_count": null,
   "metadata": {},
   "outputs": [],
   "source": [
    "df = train_df.copy()\n",
    "\n",
    "# `hits` 컬럼을 문자열에서 리스트 형태로 변환\n",
    "df[\"hits\"] = df[\"hits\"].apply(lambda x: ast.literal_eval(x) if isinstance(x, str) else x)"
   ]
  },
  {
   "cell_type": "code",
   "execution_count": null,
   "metadata": {},
   "outputs": [],
   "source": [
    "# `explode()`를 사용하여 리스트 내 JSON을 개별 행으로 변환\n",
    "df_expanded = df.explode(\"hits\")\n",
    "\n",
    "# JSON 데이터 (각 행의 `hits`가 JSON 객체) → 개별 컬럼으로 변환\n",
    "df_expanded = df_expanded.join(pd.json_normalize(df_expanded[\"hits\"]))\n",
    "\n",
    "# 불필요한 원본 `hits` 컬럼 삭제\n",
    "df_expanded.drop(columns=[\"hits\"], inplace=True)"
   ]
  },
  {
   "cell_type": "markdown",
   "metadata": {},
   "source": [
    "### (1) 이탈률(bounce rate) 분석\n",
    "- 이탈률 = 이탈수(totals.bounces) / 방문수(전체 행)"
   ]
  },
  {
   "cell_type": "code",
   "execution_count": null,
   "metadata": {},
   "outputs": [],
   "source": [
    "# 필터링\n",
    "df_filtered = df_expanded[\n",
    "    (df_expanded[\"type\"] == \"PAGE\") &  # 페이지 조회만 포함\n",
    "    (df_expanded[\"hitNumber\"] == 1)  # 첫 번째 히트만 포함 (Landing Page)\n",
    "]\n",
    "\n",
    "# 그룹화하여 이탈률 계산\n",
    "df_result = (\n",
    "    df_filtered.groupby(\"page.pagePath\")\n",
    "    .agg(views=(\"page.pagePath\", \"count\"),  # 페이지 조회수 (COUNT(*))\n",
    "         bounce_rate=(\"totals.bounces\", lambda x: x.sum() / x.count()))  # 이탈률 계산\n",
    "    .reset_index()\n",
    ")\n",
    "\n",
    "# 정렬 및 상위 10개 출력\n",
    "df_result = df_result.sort_values(by=\"views\", ascending=False).head(10)\n",
    "\n",
    "df_result"
   ]
  }
 ],
 "metadata": {
  "kernelspec": {
   "display_name": "customer",
   "language": "python",
   "name": "python3"
  },
  "language_info": {
   "codemirror_mode": {
    "name": "ipython",
    "version": 3
   },
   "file_extension": ".py",
   "mimetype": "text/x-python",
   "name": "python",
   "nbconvert_exporter": "python",
   "pygments_lexer": "ipython3",
   "version": "3.12.9"
  }
 },
 "nbformat": 4,
 "nbformat_minor": 2
}
