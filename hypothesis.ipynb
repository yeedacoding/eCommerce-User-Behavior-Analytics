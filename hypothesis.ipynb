{
 "cells": [
  {
   "cell_type": "markdown",
   "metadata": {},
   "source": [
    "# 가설 검증\n",
    "\n",
    "## 문제 정의\n",
    "- **소수의 고객만이 google merchandise store의 수익에 기여하고 있다.**\n",
    "\n",
    "## 가설 설정\n",
    "1. 결제 단계에서 유저가 가장 많이 이탈할 것이다.\n",
    "2. 유료 광고 트래픽 사용자는 Organic보다 구매율이 낮을 것이다.\n",
    "3. 첫 방문자는 재방문자보다 전환율이 낮을 것이다.\n",
    "4. 저녁/주말에는 전환율이 높을 것이다.\n",
    "5. 장바구니에 상품을 추가하고 구매를 하지 않은 사람이 많을 것이다.\n",
    "6. 모바일 사용자보다 데스크타비 사용자의 전환율이 높을 것이다."
   ]
  },
  {
   "cell_type": "markdown",
   "metadata": {},
   "source": [
    "## 1. 결제 단계에서 유저가 가장 많이 이탈할 것이다.\n",
    "- 주요 지표 : `hits.eCommerceAction.action_type`"
   ]
  },
  {
   "cell_type": "markdown",
   "metadata": {},
   "source": [
    "## 2. 유료 광고 트래픽 사용자는 Organic보다 구매율이 낮을 것이다.\n",
    "- 주요 지표 :"
   ]
  },
  {
   "cell_type": "markdown",
   "metadata": {},
   "source": [
    "## 3. 첫 방문자는 재방문자보다 전환율이 낮을 것이다.\n",
    "- 주요 지표 : "
   ]
  },
  {
   "cell_type": "markdown",
   "metadata": {},
   "source": [
    "## 4. 저녁/주말에는 전환율이 높을 것이다.\n",
    "- 주요 지표 :"
   ]
  },
  {
   "cell_type": "markdown",
   "metadata": {},
   "source": [
    "## 5. 장바구니에 상품을 추가하고 구매를 하지 않은 사람이 많을 것이다.\n",
    "- 주요 지표 :"
   ]
  },
  {
   "cell_type": "markdown",
   "metadata": {},
   "source": [
    "## 6. 모바일 사용자보다 데스크탑 사용자의 전환율이 높을 것이다.\n",
    "- 주요 지표 :"
   ]
  },
  {
   "cell_type": "markdown",
   "metadata": {},
   "source": []
  }
 ],
 "metadata": {
  "language_info": {
   "name": "python"
  }
 },
 "nbformat": 4,
 "nbformat_minor": 2
}
